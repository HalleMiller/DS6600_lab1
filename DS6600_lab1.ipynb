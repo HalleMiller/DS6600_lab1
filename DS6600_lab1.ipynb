{
 "cells": [
  {
   "cell_type": "markdown",
   "metadata": {},
   "source": [
    "Question 1"
   ]
  },
  {
   "cell_type": "markdown",
   "metadata": {},
   "source": [
    "Question 2"
   ]
  },
  {
   "cell_type": "code",
   "execution_count": null,
   "metadata": {},
   "outputs": [],
   "source": [
    "[[source]]\n",
    "url = \"https://pypi.org/simple\"\n",
    "verify_ssl = true\n",
    "name = \"pypi\"\n",
    "\n",
    "[packages]\n",
    "numpy = \"*\"\n",
    "pandas = \"*\"\n",
    "matplotlib = \"*\"\n",
    "requests = \"*\"\n",
    "jupyter = \"*\"\n",
    "jupyterlab = \"*\"\n",
    "ipykernel = \"*\"\n",
    "\n",
    "[dev-packages]\n",
    "\n",
    "[requires]\n",
    "python_version = \"3.11\"\n"
   ]
  },
  {
   "cell_type": "code",
   "execution_count": null,
   "metadata": {},
   "outputs": [
    {
     "name": "stdout",
     "output_type": "stream",
     "text": [
      "Python 3.11.4\n"
     ]
    }
   ],
   "source": [
    "!python --version"
   ]
  },
  {
   "cell_type": "code",
   "execution_count": null,
   "metadata": {},
   "outputs": [],
   "source": [
    "import numpy \n",
    "import pandas\n",
    "import matplotlib\n",
    "import requests\n"
   ]
  },
  {
   "cell_type": "code",
   "execution_count": null,
   "metadata": {},
   "outputs": [
    {
     "ename": "ModuleNotFoundError",
     "evalue": "No module named 'sklearn'",
     "output_type": "error",
     "traceback": [
      "\u001b[0;31m---------------------------------------------------------------------------\u001b[0m\n",
      "\u001b[0;31mModuleNotFoundError\u001b[0m                       Traceback (most recent call last)\n",
      "Cell \u001b[0;32mIn[4], line 1\u001b[0m\n",
      "\u001b[0;32m----> 1\u001b[0m \u001b[38;5;28;01mimport\u001b[39;00m \u001b[38;5;21;01msklearn\u001b[39;00m\n",
      "\n",
      "\u001b[0;31mModuleNotFoundError\u001b[0m: No module named 'sklearn'"
     ]
    }
   ],
   "source": [
    "import sklearn"
   ]
  },
  {
   "cell_type": "markdown",
   "metadata": {},
   "source": [
    "Question 3\n",
    "\n",
    "A\n",
    "\n",
    "I would use a virtual machine for this issue. Assuming many cities across the united States have local chapters of Meals of Wheels, with many members, the processing power needed to make this app accessible may need to be outsourced. Virtual environments and containers still use your own computer's resources, and a single laptop might not run efficiently for a project of that magnitude. \n",
    "\n",
    "B\n",
    "\n",
    "I would use the global environment of my single computer to clean the data. Becuse the data cleaning process does not need to be shared, it can be done locally. As they only need the code or data, I could use a data processing pipeline and workflow that I have devleoped personally, and just share the report. A virtual environment could be useful if I needed specifc package versions to deal with messy data and I did not want those packages in my global environment, but I anticipate for data cleaning, less isolation is needed.  \n",
    "\n",
    "C\n",
    "\n",
    "I would use a container for this project. This project needs to be accessible to several people just within the Save the Children orginization. Becuase the necessary software packages only work on Ubuntu Linix I would create a Docker container with the correct OS, and make the container availible on Docker Hub. A virtual machine may be too expensisive, and my own computer's resources would be able to handle this project effectively.\n",
    "\n",
    "D\n",
    "\n",
    "I would use a virtual environment for this. I would install the Python version 4 in the venv, so that my current projects in Python 3 would not be effected and the new Python version would be isolated. I would not need a container for this project, as the oporating system on my local machine would work. "
   ]
  },
  {
   "cell_type": "markdown",
   "metadata": {},
   "source": [
    "Question 4\n"
   ]
  },
  {
   "cell_type": "code",
   "execution_count": null,
   "metadata": {},
   "outputs": [],
   "source": [
    "#Dockerfile\n",
    "\n",
    "#syntax=docker/dockerfile:1\n",
    "FROM ubuntu:latest\n",
    "WORKDIR /DS6600_lab1\n",
    "COPY requirements.txt requirements.txt\n",
    "RUN apt-get update && apt-get install -y locales && rm -rf /var/lib/apt/lists/* \\\n",
    "\t&& localedef -i en_US -c -f UTF-8 -A /usr/share/locale/locale.alias en_US.UTF-8 &&  apt-get install -y python3\n",
    "EXPOSE 80\n",
    "CMD [\"jupyter\", \"lab\",\"--ip=0.0.0.0\",\"--allow-root\"]"
   ]
  },
  {
   "cell_type": "markdown",
   "metadata": {},
   "source": [
    "Building the Docker image- terminal output\n",
    "\n",
    "(base) yqg7ay@PSYC-CFM6J953CY DS6600_lab1 % docker build . -t ubuntulab\n",
    "[+] Building 2.2s (13/13) FINISHED                                                                     docker:desktop-linux\n",
    " => [internal] load build definition from Dockerfile                                                                   0.0s\n",
    " => => transferring dockerfile: 409B                                                                                   0.0s\n",
    " => resolve image config for docker-image://docker.io/docker/dockerfile:1                                              1.6s\n",
    " => [auth] docker/dockerfile:pull token for registry-1.docker.io                                                       0.0s\n",
    " => CACHED docker-image://docker.io/docker/dockerfile:1@sha256:865e5dd094beca432e8c0a1d5e1c465db5f998dca4e439981029b3  0.0s\n",
    " => => resolve docker.io/docker/dockerfile:1@sha256:865e5dd094beca432e8c0a1d5e1c465db5f998dca4e439981029b3b81fb39ed5   0.0s\n",
    " => [internal] load metadata for docker.io/library/ubuntu:latest                                                       0.4s\n",
    " => [auth] library/ubuntu:pull token for registry-1.docker.io                                                          0.0s\n",
    " => [internal] load .dockerignore                                                                                      0.0s\n",
    " => => transferring context: 2B                                                                                        0.0s\n",
    " => [1/4] FROM docker.io/library/ubuntu:latest@sha256:dfc10878be8d8fc9c61cbff33166cb1d1fe44391539243703c72766894fa834  0.0s\n",
    " => => resolve docker.io/library/ubuntu:latest@sha256:dfc10878be8d8fc9c61cbff33166cb1d1fe44391539243703c72766894fa834  0.0s\n",
    " => [internal] load build context                                                                                      0.0s\n",
    " => => transferring context: 74B                                                                                       0.0s\n",
    " => CACHED [2/4] WORKDIR /DS6600_lab1                                                                                  0.0s\n",
    " => CACHED [3/4] COPY requirements.txt requirements.txt                                                                0.0s\n",
    " => CACHED [4/4] RUN apt-get update && apt-get install -y locales && rm -rf /var/lib/apt/lists/*  && localedef -i en_  0.0s\n",
    " => exporting to image                                                                                                 0.0s\n",
    " => => exporting layers                                                                                                0.0s\n",
    " => => exporting manifest sha256:8ad8a5a26d3d294a1e41b14aec68298c6c2cb3631b003393e856fc3d087df88c                      0.0s\n",
    " => => exporting config sha256:d1ee7f1b2e2e6af7d387d925cff93439903460fa2bb7ae46bc35e007fb342991                        0.0s\n",
    " => => exporting attestation manifest sha256:649949a23d4f337d2287c04f5396b5324fd6aba43c430e328145029bcf51c373          0.0s\n",
    " => => exporting manifest list sha256:66a2e8dd886adc3c68f1cada6a129b16a63ab85db1878927dc6579ac4c4015be                 0.0s\n",
    " => => naming to docker.io/library/ubuntulab:latest                                                                    0.0s\n",
    " => => unpacking to docker.io/library/ubuntulab:latest                                                                 0.0s\n",
    "\n",
    "What's next:\n",
    "    View a summary of image vulnerabilities and recommendations → docker scout quickview "
   ]
  }
 ],
 "metadata": {
  "kernelspec": {
   "display_name": "DS6600_lab1-VxYtfFXn",
   "language": "python",
   "name": "python3"
  },
  "language_info": {
   "name": "python",
   "version": "3.11.4"
  }
 },
 "nbformat": 4,
 "nbformat_minor": 2
}
