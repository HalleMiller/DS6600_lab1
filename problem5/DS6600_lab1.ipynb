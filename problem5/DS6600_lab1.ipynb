{
 "cells": [
  {
   "cell_type": "markdown",
   "metadata": {},
   "source": [
    "### DS6600 Lab 1\n",
    "## Halle Miller"
   ]
  },
  {
   "cell_type": "markdown",
   "metadata": {},
   "source": [
    "## Question 1\n",
    "\n",
    "*see git hub: https://github.com/HalleMiller/DS6600_lab1"
   ]
  },
  {
   "cell_type": "markdown",
   "metadata": {},
   "source": [
    "## Question 2"
   ]
  },
  {
   "cell_type": "markdown",
   "metadata": {},
   "source": [
    "### a. "
   ]
  },
  {
   "cell_type": "code",
   "execution_count": 1,
   "metadata": {},
   "outputs": [
    {
     "ename": "NameError",
     "evalue": "name 'source' is not defined",
     "output_type": "error",
     "traceback": [
      "\u001b[0;31m---------------------------------------------------------------------------\u001b[0m",
      "\u001b[0;31mNameError\u001b[0m                                 Traceback (most recent call last)",
      "Cell \u001b[0;32mIn[1], line 1\u001b[0m\n\u001b[0;32m----> 1\u001b[0m [[\u001b[43msource\u001b[49m]]\n\u001b[1;32m      2\u001b[0m url \u001b[38;5;241m=\u001b[39m \u001b[38;5;124m\"\u001b[39m\u001b[38;5;124mhttps://pypi.org/simple\u001b[39m\u001b[38;5;124m\"\u001b[39m\n\u001b[1;32m      3\u001b[0m verify_ssl \u001b[38;5;241m=\u001b[39m true\n",
      "\u001b[0;31mNameError\u001b[0m: name 'source' is not defined"
     ]
    }
   ],
   "source": [
    "[[source]]\n",
    "url = \"https://pypi.org/simple\"\n",
    "verify_ssl = true\n",
    "name = \"pypi\"\n",
    "\n",
    "[packages]\n",
    "numpy = \"*\"\n",
    "pandas = \"*\"\n",
    "matplotlib = \"*\"\n",
    "requests = \"*\"\n",
    "jupyter = \"*\"\n",
    "jupyterlab = \"*\"\n",
    "ipykernel = \"*\"\n",
    "\n",
    "[dev-packages]\n",
    "\n",
    "[requires]\n",
    "python_version = \"3.11\"\n"
   ]
  },
  {
   "cell_type": "markdown",
   "metadata": {},
   "source": [
    "### b."
   ]
  },
  {
   "cell_type": "code",
   "execution_count": null,
   "metadata": {},
   "outputs": [],
   "source": [
    "!python --version"
   ]
  },
  {
   "cell_type": "markdown",
   "metadata": {},
   "source": [
    "### c."
   ]
  },
  {
   "cell_type": "code",
   "execution_count": null,
   "metadata": {},
   "outputs": [],
   "source": [
    "import numpy \n",
    "import pandas\n",
    "import matplotlib\n",
    "import requests\n"
   ]
  },
  {
   "cell_type": "markdown",
   "metadata": {},
   "source": [
    "### d."
   ]
  },
  {
   "cell_type": "code",
   "execution_count": null,
   "metadata": {},
   "outputs": [],
   "source": [
    "import sklearn"
   ]
  },
  {
   "cell_type": "markdown",
   "metadata": {},
   "source": [
    "## Question 3\n",
    "\n",
    "### a.\n",
    "\n",
    "I would use a virtual machine for this issue. Assuming many cities across the united States have local chapters of Meals of Wheels, with many members, the processing power needed to make this app accessible may need to be outsourced. Virtual environments and containers still use your own computer's resources, and a single laptop might not run efficiently for a project of that magnitude. \n",
    "\n",
    "### b.\n",
    "\n",
    "I would use the global environment of my single computer to clean the data. Becuse the data cleaning process does not need to be shared, it can be done locally. As they only need the code or data, I could use a data processing pipeline and workflow that I have devleoped personally, and just share the report. A virtual environment could be useful if I needed specifc package versions to deal with messy data and I did not want those packages in my global environment, but I anticipate for data cleaning, less isolation is needed.  \n",
    "\n",
    "### c.\n",
    "\n",
    "I would use a container for this project. This project needs to be accessible to several people just within the Save the Children orginization. Becuase the necessary software packages only work on Ubuntu Linix I would create a Docker container with the correct OS, and make the container availible on Docker Hub. A virtual machine may be too expensisive, and my own computer's resources would be able to handle this project effectively.\n",
    "\n",
    "### d.\n",
    "\n",
    "I would use a virtual environment for this. I would install the Python version 4 in the venv, so that my current projects in Python 3 would not be effected and the new Python version would be isolated. I would not need a container for this project, as the oporating system on my local machine would work. "
   ]
  },
  {
   "cell_type": "markdown",
   "metadata": {},
   "source": [
    "## Question 4\n"
   ]
  },
  {
   "cell_type": "markdown",
   "metadata": {},
   "source": [
    "### a."
   ]
  },
  {
   "cell_type": "code",
   "execution_count": null,
   "metadata": {},
   "outputs": [],
   "source": [
    "#Dockerfile\n",
    "\n",
    "#syntax=docker/dockerfile:1\n",
    "FROM ubuntu:latest\n",
    "WORKDIR /DS6600_lab1\n",
    "COPY requirements.txt requirements.txt\n",
    "RUN apt-get update && apt-get install -y python3\n",
    "EXPOSE 80\n",
    "CMD [\"python3\",\"--ip=0.0.0.0\",\"--allow-root\"]"
   ]
  },
  {
   "cell_type": "markdown",
   "metadata": {},
   "source": [
    "### b."
   ]
  },
  {
   "cell_type": "markdown",
   "metadata": {},
   "source": [
    "Building the Docker image- terminal output\n",
    "\n",
    "DS6600_lab1(base) username@laptop DS6600_lab1 % docker build . -t ubuntulab\n",
    "[+] Building 16.5s (11/11) FINISHED                                                               docker:desktop-linux\n",
    " => [internal] load build definition from Dockerfile                                                              0.0s\n",
    " => => transferring dockerfile: 288B                                                                              0.0s\n",
    " => resolve image config for docker-image://docker.io/docker/dockerfile:1                                         0.2s\n",
    " => CACHED docker-image://docker.io/docker/dockerfile:1@sha256:865e5dd094beca432e8c0a1d5e1c465db5f998dca4e439981  0.0s\n",
    " => => resolve docker.io/docker/dockerfile:1@sha256:865e5dd094beca432e8c0a1d5e1c465db5f998dca4e439981029b3b81fb3  0.0s\n",
    " => [internal] load metadata for docker.io/library/ubuntu:latest                                                  0.1s\n",
    " => [internal] load .dockerignore                                                                                 0.0s\n",
    " => => transferring context: 2B                                                                                   0.0s\n",
    " => [1/4] FROM docker.io/library/ubuntu:latest@sha256:dfc10878be8d8fc9c61cbff33166cb1d1fe44391539243703c72766894  0.0s\n",
    " => => resolve docker.io/library/ubuntu:latest@sha256:dfc10878be8d8fc9c61cbff33166cb1d1fe44391539243703c72766894  0.0s\n",
    " => [internal] load build context                                                                                 0.0s\n",
    " => => transferring context: 74B                                                                                  0.0s\n",
    " => CACHED [2/4] WORKDIR /DS6600_lab1                                                                             0.0s\n",
    " => CACHED [3/4] COPY requirements.txt requirements.txt                                                           0.0s\n",
    " => [4/4] RUN apt-get update && apt-get install -y python3                                                       12.9s\n",
    " => exporting to image                                                                                            3.1s\n",
    " => => exporting layers                                                                                           2.4s\n",
    " => => exporting manifest sha256:b62452e712c5c635dd202fa90526e44eca36c2e282b967718cd7716fe992d23e                 0.0s\n",
    " => => exporting config sha256:616c6b35d34ad39cf2533f5cff6383f72d81756d789694edb95b3a1db3b33147                   0.0s\n",
    " => => exporting attestation manifest sha256:0e9c54a77e22df1e0be3299763f031fb1b7f1aff465f2a6fc13d94501e5badbe     0.0s\n",
    " => => exporting manifest list sha256:53bea30affb0a854c68369c9b8ce37a367180984a9a3bac16dc2e81a6327271e            0.0s\n",
    " => => naming to docker.io/library/ubuntulab:latest                                                               0.0s\n",
    " => => unpacking to docker.io/library/ubuntulab:latest                                                            0.6s\n",
    "\n",
    "What's next:\n",
    "    View a summary of image vulnerabilities and recommendations → docker scout quickview "
   ]
  },
  {
   "cell_type": "markdown",
   "metadata": {},
   "source": [
    "### c."
   ]
  },
  {
   "cell_type": "markdown",
   "metadata": {},
   "source": [
    "DS6600_lab1(base) yqg7ay@PSYC-CFM6J953CY DS6600_lab1 % docker run -it ubuntulab   \n",
    "Python 3.12.3 (main, Sep 11 2024, 14:17:37) [GCC 13.2.0] on linux\n",
    "Type \"help\", \"copyright\", \"credits\" or \"license\" for more information.\n",
    ">>> "
   ]
  },
  {
   "cell_type": "markdown",
   "metadata": {},
   "source": [
    "## Question 5\n",
    "\n",
    "*see git hub: https://github.com/HalleMiller/DS6600_lab1"
   ]
  },
  {
   "cell_type": "markdown",
   "metadata": {},
   "source": [
    "## Question 6\n",
    "\n",
    "It is written in the Book of Set:\n",
    "\n",
    "    After the Creation, the cruel god Moloch rebelled\n",
    "    against the authority of Marduk the Creator.\n",
    "    Moloch stole from Marduk the most powerful of all\n",
    "    the artifacts of the gods, the Amulet of Yendor,\n",
    "    and he hid it in the dark cavities of Gehennom, the\n",
    "    Under World, where he now lurks, and bides his time.\n",
    "\n",
    "Your god Set seeks to possess the Amulet, and with it\n",
    "to gain deserved ascendance over the other gods.\n",
    "\n",
    "You, a newly trained Plunderess, have been heralded\n",
    "from birth as the instrument of Set.  You are destined\n",
    "to recover the Amulet for your deity, or die in the\n",
    "attempt.  Your hour of destiny has come.  For the sake\n",
    "of us all:  Go bravely with Quetzalcoatl!\n",
    "\n",
    " No  Points     Name                                                   \n",
    "             0  Halle-Arc-Dwa-Fem-Law quit in The Dungeons of Doom on          \n",
    "                level 1."
   ]
  }
 ],
 "metadata": {
  "kernelspec": {
   "display_name": "Python 3 (ipykernel)",
   "language": "python",
   "name": "python3"
  },
  "language_info": {
   "codemirror_mode": {
    "name": "ipython",
    "version": 3
   },
   "file_extension": ".py",
   "mimetype": "text/x-python",
   "name": "python",
   "nbconvert_exporter": "python",
   "pygments_lexer": "ipython3",
   "version": "3.11.4"
  }
 },
 "nbformat": 4,
 "nbformat_minor": 4
}
